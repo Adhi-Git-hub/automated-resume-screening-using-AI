{
  "nbformat": 4,
  "nbformat_minor": 0,
  "metadata": {
    "colab": {
      "name": "AI ON HIRING(RESUME).ipynb",
      "provenance": [],
      "collapsed_sections": []
    },
    "kernelspec": {
      "name": "python3",
      "display_name": "Python 3"
    },
    "language_info": {
      "name": "python"
    }
  },
  "cells": [
    {
      "cell_type": "code",
      "execution_count": null,
      "metadata": {
        "colab": {
          "base_uri": "https://localhost:8080/"
        },
        "id": "Y0P-yFMCCARS",
        "outputId": "95c81cf4-7c45-44c5-e87d-69192439c404"
      },
      "outputs": [
        {
          "output_type": "stream",
          "name": "stdout",
          "text": [
            "Collecting pyresparser\n",
            "  Downloading pyresparser-1.0.6-py3-none-any.whl (4.2 MB)\n",
            "\u001b[K     |████████████████████████████████| 4.2 MB 15.4 MB/s \n",
            "\u001b[?25hRequirement already satisfied: wasabi>=0.2.2 in /usr/local/lib/python3.7/dist-packages (from pyresparser) (0.9.1)\n",
            "Requirement already satisfied: python-dateutil>=2.8.0 in /usr/local/lib/python3.7/dist-packages (from pyresparser) (2.8.2)\n",
            "Requirement already satisfied: jsonschema>=3.0.1 in /usr/local/lib/python3.7/dist-packages (from pyresparser) (4.3.3)\n",
            "Collecting urllib3>=1.25.3\n",
            "  Downloading urllib3-1.26.9-py2.py3-none-any.whl (138 kB)\n",
            "\u001b[K     |████████████████████████████████| 138 kB 63.9 MB/s \n",
            "\u001b[?25hRequirement already satisfied: tqdm>=4.32.2 in /usr/local/lib/python3.7/dist-packages (from pyresparser) (4.64.0)\n",
            "Collecting pdfminer.six>=20181108\n",
            "  Downloading pdfminer.six-20220319-py3-none-any.whl (5.6 MB)\n",
            "\u001b[K     |████████████████████████████████| 5.6 MB 44.1 MB/s \n",
            "\u001b[?25hRequirement already satisfied: srsly>=0.0.7 in /usr/local/lib/python3.7/dist-packages (from pyresparser) (1.0.5)\n",
            "Requirement already satisfied: preshed>=2.0.1 in /usr/local/lib/python3.7/dist-packages (from pyresparser) (3.0.6)\n",
            "Requirement already satisfied: thinc>=7.0.4 in /usr/local/lib/python3.7/dist-packages (from pyresparser) (7.4.0)\n",
            "Requirement already satisfied: idna>=2.8 in /usr/local/lib/python3.7/dist-packages (from pyresparser) (2.10)\n",
            "Requirement already satisfied: sortedcontainers>=2.1.0 in /usr/local/lib/python3.7/dist-packages (from pyresparser) (2.4.0)\n",
            "Collecting nltk>=3.4.3\n",
            "  Downloading nltk-3.7-py3-none-any.whl (1.5 MB)\n",
            "\u001b[K     |████████████████████████████████| 1.5 MB 46.5 MB/s \n",
            "\u001b[?25hCollecting docx2txt>=0.7\n",
            "  Downloading docx2txt-0.8.tar.gz (2.8 kB)\n",
            "Collecting pycryptodome>=3.8.2\n",
            "  Downloading pycryptodome-3.14.1-cp35-abi3-manylinux2010_x86_64.whl (2.0 MB)\n",
            "\u001b[K     |████████████████████████████████| 2.0 MB 61.8 MB/s \n",
            "\u001b[?25hRequirement already satisfied: chardet>=3.0.4 in /usr/local/lib/python3.7/dist-packages (from pyresparser) (3.0.4)\n",
            "Requirement already satisfied: requests>=2.22.0 in /usr/local/lib/python3.7/dist-packages (from pyresparser) (2.23.0)\n",
            "Requirement already satisfied: blis>=0.2.4 in /usr/local/lib/python3.7/dist-packages (from pyresparser) (0.4.1)\n",
            "Requirement already satisfied: pandas>=0.24.2 in /usr/local/lib/python3.7/dist-packages (from pyresparser) (1.3.5)\n",
            "Requirement already satisfied: spacy>=2.1.4 in /usr/local/lib/python3.7/dist-packages (from pyresparser) (2.2.4)\n",
            "Requirement already satisfied: attrs>=19.1.0 in /usr/local/lib/python3.7/dist-packages (from pyresparser) (21.4.0)\n",
            "Collecting pytz>=2019.1\n",
            "  Downloading pytz-2022.1-py2.py3-none-any.whl (503 kB)\n",
            "\u001b[K     |████████████████████████████████| 503 kB 65.3 MB/s \n",
            "\u001b[?25hRequirement already satisfied: cymem>=2.0.2 in /usr/local/lib/python3.7/dist-packages (from pyresparser) (2.0.6)\n",
            "Requirement already satisfied: certifi>=2019.6.16 in /usr/local/lib/python3.7/dist-packages (from pyresparser) (2021.10.8)\n",
            "Requirement already satisfied: pyrsistent>=0.15.2 in /usr/local/lib/python3.7/dist-packages (from pyresparser) (0.18.1)\n",
            "Requirement already satisfied: numpy>=1.16.4 in /usr/local/lib/python3.7/dist-packages (from pyresparser) (1.21.5)\n",
            "Requirement already satisfied: six>=1.12.0 in /usr/local/lib/python3.7/dist-packages (from pyresparser) (1.15.0)\n",
            "Requirement already satisfied: typing-extensions in /usr/local/lib/python3.7/dist-packages (from jsonschema>=3.0.1->pyresparser) (4.1.1)\n",
            "Requirement already satisfied: importlib-resources>=1.4.0 in /usr/local/lib/python3.7/dist-packages (from jsonschema>=3.0.1->pyresparser) (5.6.0)\n",
            "Requirement already satisfied: importlib-metadata in /usr/local/lib/python3.7/dist-packages (from jsonschema>=3.0.1->pyresparser) (4.11.3)\n",
            "Requirement already satisfied: zipp>=3.1.0 in /usr/local/lib/python3.7/dist-packages (from importlib-resources>=1.4.0->jsonschema>=3.0.1->pyresparser) (3.8.0)\n",
            "Requirement already satisfied: joblib in /usr/local/lib/python3.7/dist-packages (from nltk>=3.4.3->pyresparser) (1.1.0)\n",
            "Collecting regex>=2021.8.3\n",
            "  Downloading regex-2022.3.15-cp37-cp37m-manylinux_2_17_x86_64.manylinux2014_x86_64.whl (749 kB)\n",
            "\u001b[K     |████████████████████████████████| 749 kB 64.3 MB/s \n",
            "\u001b[?25hRequirement already satisfied: click in /usr/local/lib/python3.7/dist-packages (from nltk>=3.4.3->pyresparser) (7.1.2)\n",
            "Collecting cryptography\n",
            "  Downloading cryptography-36.0.2-cp36-abi3-manylinux_2_24_x86_64.whl (3.6 MB)\n",
            "\u001b[K     |████████████████████████████████| 3.6 MB 46.6 MB/s \n",
            "\u001b[?25hRequirement already satisfied: murmurhash<1.1.0,>=0.28.0 in /usr/local/lib/python3.7/dist-packages (from preshed>=2.0.1->pyresparser) (1.0.6)\n",
            "Collecting urllib3>=1.25.3\n",
            "  Downloading urllib3-1.25.11-py2.py3-none-any.whl (127 kB)\n",
            "\u001b[K     |████████████████████████████████| 127 kB 62.0 MB/s \n",
            "\u001b[?25hRequirement already satisfied: setuptools in /usr/local/lib/python3.7/dist-packages (from spacy>=2.1.4->pyresparser) (57.4.0)\n",
            "Requirement already satisfied: catalogue<1.1.0,>=0.0.7 in /usr/local/lib/python3.7/dist-packages (from spacy>=2.1.4->pyresparser) (1.0.0)\n",
            "Requirement already satisfied: plac<1.2.0,>=0.9.6 in /usr/local/lib/python3.7/dist-packages (from spacy>=2.1.4->pyresparser) (1.1.3)\n",
            "Requirement already satisfied: cffi>=1.12 in /usr/local/lib/python3.7/dist-packages (from cryptography->pdfminer.six>=20181108->pyresparser) (1.15.0)\n",
            "Requirement already satisfied: pycparser in /usr/local/lib/python3.7/dist-packages (from cffi>=1.12->cryptography->pdfminer.six>=20181108->pyresparser) (2.21)\n",
            "Building wheels for collected packages: docx2txt\n",
            "  Building wheel for docx2txt (setup.py) ... \u001b[?25l\u001b[?25hdone\n",
            "  Created wheel for docx2txt: filename=docx2txt-0.8-py3-none-any.whl size=3980 sha256=f81c333183393a033e7376f3cb63ce22fd0c1a89e428392341f234bd457defd9\n",
            "  Stored in directory: /root/.cache/pip/wheels/b7/20/b2/473e3aea9a0c0d3e7b2f7bd81d06d0794fec12752733d1f3a8\n",
            "Successfully built docx2txt\n",
            "Installing collected packages: urllib3, regex, pytz, cryptography, pycryptodome, pdfminer.six, nltk, docx2txt, pyresparser\n",
            "  Attempting uninstall: urllib3\n",
            "    Found existing installation: urllib3 1.24.3\n",
            "    Uninstalling urllib3-1.24.3:\n",
            "      Successfully uninstalled urllib3-1.24.3\n",
            "  Attempting uninstall: regex\n",
            "    Found existing installation: regex 2019.12.20\n",
            "    Uninstalling regex-2019.12.20:\n",
            "      Successfully uninstalled regex-2019.12.20\n",
            "  Attempting uninstall: pytz\n",
            "    Found existing installation: pytz 2018.9\n",
            "    Uninstalling pytz-2018.9:\n",
            "      Successfully uninstalled pytz-2018.9\n",
            "  Attempting uninstall: nltk\n",
            "    Found existing installation: nltk 3.2.5\n",
            "    Uninstalling nltk-3.2.5:\n",
            "      Successfully uninstalled nltk-3.2.5\n",
            "\u001b[31mERROR: pip's dependency resolver does not currently take into account all the packages that are installed. This behaviour is the source of the following dependency conflicts.\n",
            "datascience 0.10.6 requires folium==0.2.1, but you have folium 0.8.3 which is incompatible.\u001b[0m\n",
            "Successfully installed cryptography-36.0.2 docx2txt-0.8 nltk-3.7 pdfminer.six-20220319 pycryptodome-3.14.1 pyresparser-1.0.6 pytz-2022.1 regex-2022.3.15 urllib3-1.25.11\n"
          ]
        }
      ],
      "source": [
        "!pip install pyresparser"
      ]
    },
    {
      "cell_type": "code",
      "source": [
        "!pip install ibm_watson"
      ],
      "metadata": {
        "colab": {
          "base_uri": "https://localhost:8080/"
        },
        "id": "oF2P6_SpCKvu",
        "outputId": "3db7dabf-9485-4991-ab46-1a1d92389175"
      },
      "execution_count": null,
      "outputs": [
        {
          "output_type": "stream",
          "name": "stdout",
          "text": [
            "Collecting ibm_watson\n",
            "  Downloading ibm-watson-6.0.0.tar.gz (338 kB)\n",
            "\u001b[?25l\r\u001b[K     |█                               | 10 kB 23.1 MB/s eta 0:00:01\r\u001b[K     |██                              | 20 kB 29.7 MB/s eta 0:00:01\r\u001b[K     |███                             | 30 kB 34.8 MB/s eta 0:00:01\r\u001b[K     |███▉                            | 40 kB 17.2 MB/s eta 0:00:01\r\u001b[K     |████▉                           | 51 kB 13.4 MB/s eta 0:00:01\r\u001b[K     |█████▉                          | 61 kB 15.6 MB/s eta 0:00:01\r\u001b[K     |██████▉                         | 71 kB 13.2 MB/s eta 0:00:01\r\u001b[K     |███████▊                        | 81 kB 14.3 MB/s eta 0:00:01\r\u001b[K     |████████▊                       | 92 kB 15.7 MB/s eta 0:00:01\r\u001b[K     |█████████▊                      | 102 kB 14.9 MB/s eta 0:00:01\r\u001b[K     |██████████▋                     | 112 kB 14.9 MB/s eta 0:00:01\r\u001b[K     |███████████▋                    | 122 kB 14.9 MB/s eta 0:00:01\r\u001b[K     |████████████▋                   | 133 kB 14.9 MB/s eta 0:00:01\r\u001b[K     |█████████████▋                  | 143 kB 14.9 MB/s eta 0:00:01\r\u001b[K     |██████████████▌                 | 153 kB 14.9 MB/s eta 0:00:01\r\u001b[K     |███████████████▌                | 163 kB 14.9 MB/s eta 0:00:01\r\u001b[K     |████████████████▌               | 174 kB 14.9 MB/s eta 0:00:01\r\u001b[K     |█████████████████▍              | 184 kB 14.9 MB/s eta 0:00:01\r\u001b[K     |██████████████████▍             | 194 kB 14.9 MB/s eta 0:00:01\r\u001b[K     |███████████████████▍            | 204 kB 14.9 MB/s eta 0:00:01\r\u001b[K     |████████████████████▍           | 215 kB 14.9 MB/s eta 0:00:01\r\u001b[K     |█████████████████████▎          | 225 kB 14.9 MB/s eta 0:00:01\r\u001b[K     |██████████████████████▎         | 235 kB 14.9 MB/s eta 0:00:01\r\u001b[K     |███████████████████████▎        | 245 kB 14.9 MB/s eta 0:00:01\r\u001b[K     |████████████████████████▏       | 256 kB 14.9 MB/s eta 0:00:01\r\u001b[K     |█████████████████████████▏      | 266 kB 14.9 MB/s eta 0:00:01\r\u001b[K     |██████████████████████████▏     | 276 kB 14.9 MB/s eta 0:00:01\r\u001b[K     |███████████████████████████▏    | 286 kB 14.9 MB/s eta 0:00:01\r\u001b[K     |████████████████████████████    | 296 kB 14.9 MB/s eta 0:00:01\r\u001b[K     |█████████████████████████████   | 307 kB 14.9 MB/s eta 0:00:01\r\u001b[K     |██████████████████████████████  | 317 kB 14.9 MB/s eta 0:00:01\r\u001b[K     |███████████████████████████████ | 327 kB 14.9 MB/s eta 0:00:01\r\u001b[K     |████████████████████████████████| 337 kB 14.9 MB/s eta 0:00:01\r\u001b[K     |████████████████████████████████| 338 kB 14.9 MB/s \n",
            "\u001b[?25h  Installing build dependencies ... \u001b[?25l\u001b[?25hdone\n",
            "  Getting requirements to build wheel ... \u001b[?25l\u001b[?25hdone\n",
            "    Preparing wheel metadata ... \u001b[?25l\u001b[?25hdone\n",
            "Requirement already satisfied: requests<3.0,>=2.0 in /usr/local/lib/python3.7/dist-packages (from ibm_watson) (2.23.0)\n",
            "Collecting websocket-client==1.1.0\n",
            "  Downloading websocket_client-1.1.0-py2.py3-none-any.whl (68 kB)\n",
            "\u001b[K     |████████████████████████████████| 68 kB 6.3 MB/s \n",
            "\u001b[?25hCollecting ibm-cloud-sdk-core==3.*,>=3.3.6\n",
            "  Downloading ibm-cloud-sdk-core-3.15.1.tar.gz (50 kB)\n",
            "\u001b[K     |████████████████████████████████| 50 kB 7.0 MB/s \n",
            "\u001b[?25hRequirement already satisfied: python-dateutil>=2.5.3 in /usr/local/lib/python3.7/dist-packages (from ibm_watson) (2.8.2)\n",
            "Collecting requests<3.0,>=2.0\n",
            "  Downloading requests-2.27.1-py2.py3-none-any.whl (63 kB)\n",
            "\u001b[K     |████████████████████████████████| 63 kB 984 kB/s \n",
            "\u001b[?25hCollecting urllib3<2.0.0,>=1.26.0\n",
            "  Using cached urllib3-1.26.9-py2.py3-none-any.whl (138 kB)\n",
            "Collecting PyJWT<3.0.0,>=2.0.1\n",
            "  Downloading PyJWT-2.3.0-py3-none-any.whl (16 kB)\n",
            "Requirement already satisfied: six>=1.5 in /usr/local/lib/python3.7/dist-packages (from python-dateutil>=2.5.3->ibm_watson) (1.15.0)\n",
            "Requirement already satisfied: charset-normalizer~=2.0.0 in /usr/local/lib/python3.7/dist-packages (from requests<3.0,>=2.0->ibm_watson) (2.0.12)\n",
            "Requirement already satisfied: certifi>=2017.4.17 in /usr/local/lib/python3.7/dist-packages (from requests<3.0,>=2.0->ibm_watson) (2021.10.8)\n",
            "Requirement already satisfied: idna<4,>=2.5 in /usr/local/lib/python3.7/dist-packages (from requests<3.0,>=2.0->ibm_watson) (2.10)\n",
            "Building wheels for collected packages: ibm-watson, ibm-cloud-sdk-core\n",
            "  Building wheel for ibm-watson (PEP 517) ... \u001b[?25l\u001b[?25hdone\n",
            "  Created wheel for ibm-watson: filename=ibm_watson-6.0.0-py3-none-any.whl size=336807 sha256=4bb5905c3865275493b8335f0929f113563b88da4f3cd99c2d06c7829a73d83e\n",
            "  Stored in directory: /root/.cache/pip/wheels/31/de/dd/1002a4fdfeed1322ccffb20b0a12e00afbeeee8df4a86769d7\n",
            "  Building wheel for ibm-cloud-sdk-core (setup.py) ... \u001b[?25l\u001b[?25hdone\n",
            "  Created wheel for ibm-cloud-sdk-core: filename=ibm_cloud_sdk_core-3.15.1-py3-none-any.whl size=83648 sha256=bdaad76fbd9867ab67a14da2b45f0d63818192955e0b6ee21601c43983e8df21\n",
            "  Stored in directory: /root/.cache/pip/wheels/ba/7a/ac/408ba6a1438ea293164dbf26483b13a72165894a31e914b5e6\n",
            "Successfully built ibm-watson ibm-cloud-sdk-core\n",
            "Installing collected packages: urllib3, requests, PyJWT, websocket-client, ibm-cloud-sdk-core, ibm-watson\n",
            "  Attempting uninstall: urllib3\n",
            "    Found existing installation: urllib3 1.25.11\n",
            "    Uninstalling urllib3-1.25.11:\n",
            "      Successfully uninstalled urllib3-1.25.11\n",
            "  Attempting uninstall: requests\n",
            "    Found existing installation: requests 2.23.0\n",
            "    Uninstalling requests-2.23.0:\n",
            "      Successfully uninstalled requests-2.23.0\n",
            "\u001b[31mERROR: pip's dependency resolver does not currently take into account all the packages that are installed. This behaviour is the source of the following dependency conflicts.\n",
            "google-colab 1.0.0 requires requests~=2.23.0, but you have requests 2.27.1 which is incompatible.\n",
            "datascience 0.10.6 requires folium==0.2.1, but you have folium 0.8.3 which is incompatible.\u001b[0m\n",
            "Successfully installed PyJWT-2.3.0 ibm-cloud-sdk-core-3.15.1 ibm-watson-6.0.0 requests-2.27.1 urllib3-1.26.9 websocket-client-1.1.0\n"
          ]
        }
      ]
    },
    {
      "cell_type": "code",
      "source": [
        "import nltk\n",
        "nltk.download('stopwords')\n",
        "from pyresparser import ResumeParser"
      ],
      "metadata": {
        "colab": {
          "base_uri": "https://localhost:8080/"
        },
        "id": "OKnjdh95CRMa",
        "outputId": "ed41ed56-a8ed-4fc1-91e3-df19e290a337"
      },
      "execution_count": null,
      "outputs": [
        {
          "output_type": "stream",
          "name": "stderr",
          "text": [
            "[nltk_data] Downloading package stopwords to /root/nltk_data...\n",
            "[nltk_data]   Unzipping corpora/stopwords.zip.\n"
          ]
        }
      ]
    },
    {
      "cell_type": "code",
      "source": [
        "import os"
      ],
      "metadata": {
        "id": "A71wTSZvLf96"
      },
      "execution_count": null,
      "outputs": []
    },
    {
      "cell_type": "code",
      "source": [
        "from google.colab import files\n",
        "uploaded=files.upload"
      ],
      "metadata": {
        "id": "1IKvA1braoSp"
      },
      "execution_count": null,
      "outputs": []
    },
    {
      "cell_type": "code",
      "source": [
        "from google.colab import drive\n",
        "drive.mount(\"/content/drive\")"
      ],
      "metadata": {
        "colab": {
          "base_uri": "https://localhost:8080/"
        },
        "id": "c_JISuJuSmCa",
        "outputId": "8330b09a-49ab-4537-e32b-8c5733d1fa1e"
      },
      "execution_count": null,
      "outputs": [
        {
          "output_type": "stream",
          "name": "stdout",
          "text": [
            "Drive already mounted at /content/drive; to attempt to forcibly remount, call drive.mount(\"/content/drive\", force_remount=True).\n"
          ]
        }
      ]
    },
    {
      "cell_type": "code",
      "source": [
        "def batchRenmePDF(folder, newName):\n",
        "  import os\n",
        "  newName=\"PDF\"\n",
        "\n",
        "  if os.path.exists(folder):\n",
        "        pass\n",
        "  else:\n",
        "        print(\"Folder does not exist\")\n",
        "        exit()\n",
        "\n",
        "    # If the user added the filetype in the newName, replace it with nothing\n",
        "  if str(newName).endswith(\".pdf\") or str(newName).endswith(\".PDF\"):\n",
        "        newName = str(newName).replace(\".pdf\",\"\")\n",
        "        newName = str(newName).replace(\".PDF\",\"\")\n",
        "  else:\n",
        "        pass\n",
        "\n",
        "    # Create the variable for the suffix for all the PDFs\n",
        "  suffix = 0\n",
        "\n",
        "    # Loop through all PDFs in the folder the user gave\n",
        "  for each_pdf in os.listdir(folder):\n",
        "        # Add 1 to the suffix so each time the PDF will have a different number\n",
        "        suffix += 1\n",
        "\n",
        "        # Create the path for the PDF using the folder path and the PDF name\n",
        "        path = os.path.join(folder,each_pdf)\n",
        "\n",
        "        os.rename(path,f\"{newName}_{suffix}\")\n",
        "        \n",
        "batchRenmePDF(\"/content/drive/MyDrive/AI ON HIRING\",newName=\"PDF\")"
      ],
      "metadata": {
        "id": "bIl0uH1rQbmT"
      },
      "execution_count": null,
      "outputs": []
    },
    {
      "cell_type": "code",
      "source": [
        "for k in range(1,100):\n",
        "  Resume_details = ResumeParser(\"/content/drive/MyDrive/AI ON HIRING%s.pdf\"%(k)).get_extracted_data()\n"
      ],
      "metadata": {
        "id": "M70GrQ7iL1Yk"
      },
      "execution_count": null,
      "outputs": []
    },
    {
      "cell_type": "code",
      "source": [
        "Resume_details = ResumeParser(\"/content/Web-Designer-Resume-Example-13.pdf\").get_extracted_data()"
      ],
      "metadata": {
        "id": "sOhoDz0dCZzP"
      },
      "execution_count": null,
      "outputs": []
    },
    {
      "cell_type": "code",
      "source": [
        "Resume_details"
      ],
      "metadata": {
        "colab": {
          "base_uri": "https://localhost:8080/"
        },
        "id": "0sJrZMHrChKU",
        "outputId": "6bfcb8ba-e1f6-4fef-bf6f-0266d7b4c92f"
      },
      "execution_count": null,
      "outputs": [
        {
          "output_type": "execute_result",
          "data": {
            "text/plain": [
              "{'college_name': None,\n",
              " 'company_names': None,\n",
              " 'degree': None,\n",
              " 'designation': None,\n",
              " 'email': None,\n",
              " 'experience': ['functional, attractive, and responsive websites for travel companies. Clear',\n",
              "  'understanding of modern technologies and best design practices. Experienced',\n",
              "  'with WordPress and Drupal. Proven track record of raising UX scores and',\n",
              "  'customer retention.',\n",
              "  'Employment History',\n",
              "  'Web Designer, Expedia Group, New York',\n",
              "  'WordPress, Drupal, Joomla',\n",
              "  'January 2018 — May 2020',\n",
              "  'HTML5, CSS, JS, jQuery',\n",
              "  'Expedia Group is a global travel company with websites which are primarily travel',\n",
              "  'Adobe Photoshop &',\n",
              "  'Illustrator',\n",
              "  'Sketch',\n",
              "  'fare aggregators. As the Web Designer, my core activities included:',\n",
              "  '• Planning site designs, functionality and navigation, along with audience',\n",
              "  'funnels and data capture points.',\n",
              "  'Time management',\n",
              "  '• Building wireframes & prototypes which were then turned into functional',\n",
              "  'Deadline-driven',\n",
              "  'Effective communicator',\n",
              "  'Team player',\n",
              "  'Energetic and inventive',\n",
              "  'and responsive digital products.',\n",
              "  '• Reviewing UX with multiple teams and making necessary edits to',\n",
              "  'accommodate technical or business concerns. Raised UX scores by 38%.',\n",
              "  '• Handling all composition, color, illustration, typography, and branding for',\n",
              "  'projects.',\n",
              "  'Web Designer, FarePortal, New York',\n",
              "  'February 2018 — December 2018',\n",
              "  'FarePortal is a travel technology company where the flagship product CheapOair',\n",
              "  'receives over 100 million visitors annually. As the Web Designer, my core',\n",
              "  'activities included:',\n",
              "  '• Designing, building, and maintaining marketing email creative using',\n",
              "  'data-driven responsive templates.',\n",
              "  '• Providing expertise on industry standards, best practices, and proper coding',\n",
              "  'techniques to achieve correct rendering in all email environments.',\n",
              "  '• Performing quality assurance and troubleshooting code rendering across',\n",
              "  'multiple desktop and mobile devices. Improved customer retention by 17%.',\n",
              "  '• Creating landing pages using WordPress CMS.',\n",
              "  'Web Designer, The Points Guy, New York',\n",
              "  'March 2017 — November 2017',\n",
              "  'The Points Guy is a site devoted to helping over 5 million monthly readers stay',\n",
              "  'up to date on travel news. As the Web Designer, my core activities included:',\n",
              "  '• Creating homepage assets for both desktop & mobile experiences.',\n",
              "  '• Developing site content and graphics in partnership with writers and'],\n",
              " 'mobile_number': '890-555-0401',\n",
              " 'name': 'Brandon Davies',\n",
              " 'no_of_pages': 2,\n",
              " 'skills': ['Ux',\n",
              "  'Illustrator',\n",
              "  'Audio',\n",
              "  'Css',\n",
              "  'Coding',\n",
              "  'Travel',\n",
              "  'Cms',\n",
              "  'Email',\n",
              "  'Technical',\n",
              "  'Marketing',\n",
              "  'Sketch',\n",
              "  'Js',\n",
              "  'Time management',\n",
              "  'Retention',\n",
              "  'Ui',\n",
              "  'Partnership',\n",
              "  'Branding',\n",
              "  'Quality assurance',\n",
              "  'Html5',\n",
              "  'Photoshop',\n",
              "  'Adobe',\n",
              "  'Mobile',\n",
              "  'Troubleshooting',\n",
              "  'Content',\n",
              "  'Wordpress',\n",
              "  'Design'],\n",
              " 'total_experience': 3.83}"
            ]
          },
          "metadata": {},
          "execution_count": 7
        }
      ]
    },
    {
      "cell_type": "code",
      "source": [
        "resume_skills=Resume_details[\"skills\"]"
      ],
      "metadata": {
        "id": "RaAa0ZM5CuOt"
      },
      "execution_count": null,
      "outputs": []
    },
    {
      "cell_type": "code",
      "source": [
        "resume_skills"
      ],
      "metadata": {
        "colab": {
          "base_uri": "https://localhost:8080/"
        },
        "id": "FQ-VsTOdPsvO",
        "outputId": "5610fc5b-3647-4e03-9f6c-7e3acb6d9858"
      },
      "execution_count": null,
      "outputs": [
        {
          "output_type": "execute_result",
          "data": {
            "text/plain": [
              "['Ux',\n",
              " 'Illustrator',\n",
              " 'Audio',\n",
              " 'Css',\n",
              " 'Coding',\n",
              " 'Travel',\n",
              " 'Cms',\n",
              " 'Email',\n",
              " 'Technical',\n",
              " 'Marketing',\n",
              " 'Sketch',\n",
              " 'Js',\n",
              " 'Time management',\n",
              " 'Retention',\n",
              " 'Ui',\n",
              " 'Partnership',\n",
              " 'Branding',\n",
              " 'Quality assurance',\n",
              " 'Html5',\n",
              " 'Photoshop',\n",
              " 'Adobe',\n",
              " 'Mobile',\n",
              " 'Troubleshooting',\n",
              " 'Content',\n",
              " 'Wordpress',\n",
              " 'Design']"
            ]
          },
          "metadata": {},
          "execution_count": 9
        }
      ]
    },
    {
      "cell_type": "code",
      "source": [
        "import json\n",
        "mydict_in_str = json.dumps(resume_skills)\n",
        "skillslist_lower = json.loads(mydict_in_str.lower())\n",
        "print(skillslist_lower)"
      ],
      "metadata": {
        "colab": {
          "base_uri": "https://localhost:8080/"
        },
        "id": "vuh_SOHhHQ21",
        "outputId": "914dcab3-8341-4da6-c641-cd909b08285b"
      },
      "execution_count": null,
      "outputs": [
        {
          "output_type": "stream",
          "name": "stdout",
          "text": [
            "['ux', 'illustrator', 'audio', 'css', 'coding', 'travel', 'cms', 'email', 'technical', 'marketing', 'sketch', 'js', 'time management', 'retention', 'ui', 'partnership', 'branding', 'quality assurance', 'html5', 'photoshop', 'adobe', 'mobile', 'troubleshooting', 'content', 'wordpress', 'design']\n"
          ]
        }
      ]
    },
    {
      "cell_type": "code",
      "source": [
        "Resume_details[\"mobile_number\"]"
      ],
      "metadata": {
        "colab": {
          "base_uri": "https://localhost:8080/",
          "height": 36
        },
        "id": "LylUNRxpC9OD",
        "outputId": "f5a85430-555a-4506-f1b3-b1c40b013d7c"
      },
      "execution_count": null,
      "outputs": [
        {
          "output_type": "execute_result",
          "data": {
            "text/plain": [
              "'890-555-0401'"
            ],
            "application/vnd.google.colaboratory.intrinsic+json": {
              "type": "string"
            }
          },
          "metadata": {},
          "execution_count": 11
        }
      ]
    },
    {
      "cell_type": "code",
      "source": [
        "int(Resume_details['total_experience'])"
      ],
      "metadata": {
        "colab": {
          "base_uri": "https://localhost:8080/"
        },
        "id": "_S8dZm7sDubR",
        "outputId": "5ed1c34a-f32e-46db-e548-770c3c5a89a5"
      },
      "execution_count": null,
      "outputs": [
        {
          "output_type": "execute_result",
          "data": {
            "text/plain": [
              "3"
            ]
          },
          "metadata": {},
          "execution_count": 15
        }
      ]
    },
    {
      "cell_type": "code",
      "source": [
        "import pandas as pd"
      ],
      "metadata": {
        "id": "cL0fSGdqE_SC"
      },
      "execution_count": null,
      "outputs": []
    },
    {
      "cell_type": "code",
      "source": [
        "traindata=pd.read_csv(\"/content/Technology Skills traininng data real.csv\")"
      ],
      "metadata": {
        "id": "LyIP0gY_FHt-"
      },
      "execution_count": null,
      "outputs": []
    },
    {
      "cell_type": "code",
      "source": [
        "traindata.head()"
      ],
      "metadata": {
        "colab": {
          "base_uri": "https://localhost:8080/",
          "height": 577
        },
        "id": "APK7ahteFPD2",
        "outputId": "b0ac7844-304f-4a53-819c-ca0c6652ab09"
      },
      "execution_count": null,
      "outputs": [
        {
          "output_type": "execute_result",
          "data": {
            "text/plain": [
              "                                              Title  \\\n",
              "0                                       accountants   \n",
              "1                                         actuaries   \n",
              "2                  administrative services managers   \n",
              "3               advertising and promotions managers   \n",
              "4  aerospace engineering and operations technicians   \n",
              "\n",
              "                               skill1  \\\n",
              "0                   1099 prossoftware   \n",
              "1                  appraisal software   \n",
              "2         adobe systems adobe acrobat   \n",
              "3                        actuate birt   \n",
              "4  computer aided design cad software   \n",
              "\n",
              "                                        skill2  \\\n",
              "0                                   abacus tax   \n",
              "1                 armon technologies xlactuary   \n",
              "2                adobe systems adobe pagemaker   \n",
              "3                  adobe systems adobe acrobat   \n",
              "4  computerized numerical control cnc software   \n",
              "\n",
              "                             skill3                              skill4  \\\n",
              "0    accountants templates jazz-it!      accounting compliance software   \n",
              "1                               c++                  cash flow software   \n",
              "2               adp enterprise hrms                   adp workforce now   \n",
              "3  adobe systems adobe aftereffects  adobe systems adobe creative suite   \n",
              "4         data acquisition software      extensible markup language xml   \n",
              "\n",
              "                                skill5                            skill6  \\\n",
              "0  accounting fraud detection software         accounts payable software   \n",
              "1          compliance testing software               data entry software   \n",
              "2                       atlassian jira                  autodesk autocad   \n",
              "3      adobe systems adobe dreamweaver  adobe systems adobe flash player   \n",
              "4                   inventory software                   microsoft excel   \n",
              "\n",
              "                            skill7                        skill8  \\\n",
              "0     accounts receivable software                      accucert   \n",
              "1                       dbase plus                      ggy axis   \n",
              "2      blackbaud the raiser's edge           data entry software   \n",
              "3  adobe systems adobe illustrator  adobe systems adobe indesign   \n",
              "4                 microsoft office          microsoft powerpoint   \n",
              "\n",
              "                          skill9  ... skill319 skill320 skill321 skill322  \\\n",
              "0                   accurate nxg  ...      NaN      NaN      NaN      NaN   \n",
              "1                ibm lotus notes  ...      NaN      NaN      NaN      NaN   \n",
              "2              delphi technology  ...      NaN      NaN      NaN      NaN   \n",
              "3  adobe systems adobe pagemaker  ...      NaN      NaN      NaN      NaN   \n",
              "4           microsoft sql server  ...      NaN      NaN      NaN      NaN   \n",
              "\n",
              "  skill323 skill324 skill325 skill326 skill327 skill328  \n",
              "0      NaN      NaN      NaN      NaN      NaN      NaN  \n",
              "1      NaN      NaN      NaN      NaN      NaN      NaN  \n",
              "2      NaN      NaN      NaN      NaN      NaN      NaN  \n",
              "3      NaN      NaN      NaN      NaN      NaN      NaN  \n",
              "4      NaN      NaN      NaN      NaN      NaN      NaN  \n",
              "\n",
              "[5 rows x 329 columns]"
            ],
            "text/html": [
              "\n",
              "  <div id=\"df-8f78b863-82a1-41af-8115-6e843c741e30\">\n",
              "    <div class=\"colab-df-container\">\n",
              "      <div>\n",
              "<style scoped>\n",
              "    .dataframe tbody tr th:only-of-type {\n",
              "        vertical-align: middle;\n",
              "    }\n",
              "\n",
              "    .dataframe tbody tr th {\n",
              "        vertical-align: top;\n",
              "    }\n",
              "\n",
              "    .dataframe thead th {\n",
              "        text-align: right;\n",
              "    }\n",
              "</style>\n",
              "<table border=\"1\" class=\"dataframe\">\n",
              "  <thead>\n",
              "    <tr style=\"text-align: right;\">\n",
              "      <th></th>\n",
              "      <th>Title</th>\n",
              "      <th>skill1</th>\n",
              "      <th>skill2</th>\n",
              "      <th>skill3</th>\n",
              "      <th>skill4</th>\n",
              "      <th>skill5</th>\n",
              "      <th>skill6</th>\n",
              "      <th>skill7</th>\n",
              "      <th>skill8</th>\n",
              "      <th>skill9</th>\n",
              "      <th>...</th>\n",
              "      <th>skill319</th>\n",
              "      <th>skill320</th>\n",
              "      <th>skill321</th>\n",
              "      <th>skill322</th>\n",
              "      <th>skill323</th>\n",
              "      <th>skill324</th>\n",
              "      <th>skill325</th>\n",
              "      <th>skill326</th>\n",
              "      <th>skill327</th>\n",
              "      <th>skill328</th>\n",
              "    </tr>\n",
              "  </thead>\n",
              "  <tbody>\n",
              "    <tr>\n",
              "      <th>0</th>\n",
              "      <td>accountants</td>\n",
              "      <td>1099 prossoftware</td>\n",
              "      <td>abacus tax</td>\n",
              "      <td>accountants templates jazz-it!</td>\n",
              "      <td>accounting compliance software</td>\n",
              "      <td>accounting fraud detection software</td>\n",
              "      <td>accounts payable software</td>\n",
              "      <td>accounts receivable software</td>\n",
              "      <td>accucert</td>\n",
              "      <td>accurate nxg</td>\n",
              "      <td>...</td>\n",
              "      <td>NaN</td>\n",
              "      <td>NaN</td>\n",
              "      <td>NaN</td>\n",
              "      <td>NaN</td>\n",
              "      <td>NaN</td>\n",
              "      <td>NaN</td>\n",
              "      <td>NaN</td>\n",
              "      <td>NaN</td>\n",
              "      <td>NaN</td>\n",
              "      <td>NaN</td>\n",
              "    </tr>\n",
              "    <tr>\n",
              "      <th>1</th>\n",
              "      <td>actuaries</td>\n",
              "      <td>appraisal software</td>\n",
              "      <td>armon technologies xlactuary</td>\n",
              "      <td>c++</td>\n",
              "      <td>cash flow software</td>\n",
              "      <td>compliance testing software</td>\n",
              "      <td>data entry software</td>\n",
              "      <td>dbase plus</td>\n",
              "      <td>ggy axis</td>\n",
              "      <td>ibm lotus notes</td>\n",
              "      <td>...</td>\n",
              "      <td>NaN</td>\n",
              "      <td>NaN</td>\n",
              "      <td>NaN</td>\n",
              "      <td>NaN</td>\n",
              "      <td>NaN</td>\n",
              "      <td>NaN</td>\n",
              "      <td>NaN</td>\n",
              "      <td>NaN</td>\n",
              "      <td>NaN</td>\n",
              "      <td>NaN</td>\n",
              "    </tr>\n",
              "    <tr>\n",
              "      <th>2</th>\n",
              "      <td>administrative services managers</td>\n",
              "      <td>adobe systems adobe acrobat</td>\n",
              "      <td>adobe systems adobe pagemaker</td>\n",
              "      <td>adp enterprise hrms</td>\n",
              "      <td>adp workforce now</td>\n",
              "      <td>atlassian jira</td>\n",
              "      <td>autodesk autocad</td>\n",
              "      <td>blackbaud the raiser's edge</td>\n",
              "      <td>data entry software</td>\n",
              "      <td>delphi technology</td>\n",
              "      <td>...</td>\n",
              "      <td>NaN</td>\n",
              "      <td>NaN</td>\n",
              "      <td>NaN</td>\n",
              "      <td>NaN</td>\n",
              "      <td>NaN</td>\n",
              "      <td>NaN</td>\n",
              "      <td>NaN</td>\n",
              "      <td>NaN</td>\n",
              "      <td>NaN</td>\n",
              "      <td>NaN</td>\n",
              "    </tr>\n",
              "    <tr>\n",
              "      <th>3</th>\n",
              "      <td>advertising and promotions managers</td>\n",
              "      <td>actuate birt</td>\n",
              "      <td>adobe systems adobe acrobat</td>\n",
              "      <td>adobe systems adobe aftereffects</td>\n",
              "      <td>adobe systems adobe creative suite</td>\n",
              "      <td>adobe systems adobe dreamweaver</td>\n",
              "      <td>adobe systems adobe flash player</td>\n",
              "      <td>adobe systems adobe illustrator</td>\n",
              "      <td>adobe systems adobe indesign</td>\n",
              "      <td>adobe systems adobe pagemaker</td>\n",
              "      <td>...</td>\n",
              "      <td>NaN</td>\n",
              "      <td>NaN</td>\n",
              "      <td>NaN</td>\n",
              "      <td>NaN</td>\n",
              "      <td>NaN</td>\n",
              "      <td>NaN</td>\n",
              "      <td>NaN</td>\n",
              "      <td>NaN</td>\n",
              "      <td>NaN</td>\n",
              "      <td>NaN</td>\n",
              "    </tr>\n",
              "    <tr>\n",
              "      <th>4</th>\n",
              "      <td>aerospace engineering and operations technicians</td>\n",
              "      <td>computer aided design cad software</td>\n",
              "      <td>computerized numerical control cnc software</td>\n",
              "      <td>data acquisition software</td>\n",
              "      <td>extensible markup language xml</td>\n",
              "      <td>inventory software</td>\n",
              "      <td>microsoft excel</td>\n",
              "      <td>microsoft office</td>\n",
              "      <td>microsoft powerpoint</td>\n",
              "      <td>microsoft sql server</td>\n",
              "      <td>...</td>\n",
              "      <td>NaN</td>\n",
              "      <td>NaN</td>\n",
              "      <td>NaN</td>\n",
              "      <td>NaN</td>\n",
              "      <td>NaN</td>\n",
              "      <td>NaN</td>\n",
              "      <td>NaN</td>\n",
              "      <td>NaN</td>\n",
              "      <td>NaN</td>\n",
              "      <td>NaN</td>\n",
              "    </tr>\n",
              "  </tbody>\n",
              "</table>\n",
              "<p>5 rows × 329 columns</p>\n",
              "</div>\n",
              "      <button class=\"colab-df-convert\" onclick=\"convertToInteractive('df-8f78b863-82a1-41af-8115-6e843c741e30')\"\n",
              "              title=\"Convert this dataframe to an interactive table.\"\n",
              "              style=\"display:none;\">\n",
              "        \n",
              "  <svg xmlns=\"http://www.w3.org/2000/svg\" height=\"24px\"viewBox=\"0 0 24 24\"\n",
              "       width=\"24px\">\n",
              "    <path d=\"M0 0h24v24H0V0z\" fill=\"none\"/>\n",
              "    <path d=\"M18.56 5.44l.94 2.06.94-2.06 2.06-.94-2.06-.94-.94-2.06-.94 2.06-2.06.94zm-11 1L8.5 8.5l.94-2.06 2.06-.94-2.06-.94L8.5 2.5l-.94 2.06-2.06.94zm10 10l.94 2.06.94-2.06 2.06-.94-2.06-.94-.94-2.06-.94 2.06-2.06.94z\"/><path d=\"M17.41 7.96l-1.37-1.37c-.4-.4-.92-.59-1.43-.59-.52 0-1.04.2-1.43.59L10.3 9.45l-7.72 7.72c-.78.78-.78 2.05 0 2.83L4 21.41c.39.39.9.59 1.41.59.51 0 1.02-.2 1.41-.59l7.78-7.78 2.81-2.81c.8-.78.8-2.07 0-2.86zM5.41 20L4 18.59l7.72-7.72 1.47 1.35L5.41 20z\"/>\n",
              "  </svg>\n",
              "      </button>\n",
              "      \n",
              "  <style>\n",
              "    .colab-df-container {\n",
              "      display:flex;\n",
              "      flex-wrap:wrap;\n",
              "      gap: 12px;\n",
              "    }\n",
              "\n",
              "    .colab-df-convert {\n",
              "      background-color: #E8F0FE;\n",
              "      border: none;\n",
              "      border-radius: 50%;\n",
              "      cursor: pointer;\n",
              "      display: none;\n",
              "      fill: #1967D2;\n",
              "      height: 32px;\n",
              "      padding: 0 0 0 0;\n",
              "      width: 32px;\n",
              "    }\n",
              "\n",
              "    .colab-df-convert:hover {\n",
              "      background-color: #E2EBFA;\n",
              "      box-shadow: 0px 1px 2px rgba(60, 64, 67, 0.3), 0px 1px 3px 1px rgba(60, 64, 67, 0.15);\n",
              "      fill: #174EA6;\n",
              "    }\n",
              "\n",
              "    [theme=dark] .colab-df-convert {\n",
              "      background-color: #3B4455;\n",
              "      fill: #D2E3FC;\n",
              "    }\n",
              "\n",
              "    [theme=dark] .colab-df-convert:hover {\n",
              "      background-color: #434B5C;\n",
              "      box-shadow: 0px 1px 3px 1px rgba(0, 0, 0, 0.15);\n",
              "      filter: drop-shadow(0px 1px 2px rgba(0, 0, 0, 0.3));\n",
              "      fill: #FFFFFF;\n",
              "    }\n",
              "  </style>\n",
              "\n",
              "      <script>\n",
              "        const buttonEl =\n",
              "          document.querySelector('#df-8f78b863-82a1-41af-8115-6e843c741e30 button.colab-df-convert');\n",
              "        buttonEl.style.display =\n",
              "          google.colab.kernel.accessAllowed ? 'block' : 'none';\n",
              "\n",
              "        async function convertToInteractive(key) {\n",
              "          const element = document.querySelector('#df-8f78b863-82a1-41af-8115-6e843c741e30');\n",
              "          const dataTable =\n",
              "            await google.colab.kernel.invokeFunction('convertToInteractive',\n",
              "                                                     [key], {});\n",
              "          if (!dataTable) return;\n",
              "\n",
              "          const docLinkHtml = 'Like what you see? Visit the ' +\n",
              "            '<a target=\"_blank\" href=https://colab.research.google.com/notebooks/data_table.ipynb>data table notebook</a>'\n",
              "            + ' to learn more about interactive tables.';\n",
              "          element.innerHTML = '';\n",
              "          dataTable['output_type'] = 'display_data';\n",
              "          await google.colab.output.renderOutput(dataTable, element);\n",
              "          const docLink = document.createElement('div');\n",
              "          docLink.innerHTML = docLinkHtml;\n",
              "          element.appendChild(docLink);\n",
              "        }\n",
              "      </script>\n",
              "    </div>\n",
              "  </div>\n",
              "  "
            ]
          },
          "metadata": {},
          "execution_count": 15
        }
      ]
    },
    {
      "cell_type": "code",
      "source": [
        "traindata.info()"
      ],
      "metadata": {
        "colab": {
          "base_uri": "https://localhost:8080/"
        },
        "id": "XsF7VcHFFSeo",
        "outputId": "cb4e115d-b342-4798-d943-75f219d9881b"
      },
      "execution_count": null,
      "outputs": [
        {
          "output_type": "stream",
          "name": "stdout",
          "text": [
            "<class 'pandas.core.frame.DataFrame'>\n",
            "RangeIndex: 264 entries, 0 to 263\n",
            "Columns: 329 entries, Title to skill328\n",
            "dtypes: object(329)\n",
            "memory usage: 678.7+ KB\n"
          ]
        }
      ]
    },
    {
      "cell_type": "code",
      "source": [
        "traindata.index"
      ],
      "metadata": {
        "colab": {
          "base_uri": "https://localhost:8080/"
        },
        "id": "Zqnu7ut7FVmD",
        "outputId": "52e82a37-577a-4876-cc73-2912bcaa5e4b"
      },
      "execution_count": null,
      "outputs": [
        {
          "output_type": "execute_result",
          "data": {
            "text/plain": [
              "RangeIndex(start=0, stop=264, step=1)"
            ]
          },
          "metadata": {},
          "execution_count": 17
        }
      ]
    },
    {
      "cell_type": "code",
      "source": [
        "skill_traindata = traindata.loc[traindata[\"Title\"] == 'ui designer']\n",
        "print (skill_traindata)"
      ],
      "metadata": {
        "colab": {
          "base_uri": "https://localhost:8080/"
        },
        "id": "MmeRWhsWFaOp",
        "outputId": "9f8cff31-48e8-4ae4-f16f-d9f5974ef941"
      },
      "execution_count": null,
      "outputs": [
        {
          "output_type": "stream",
          "name": "stdout",
          "text": [
            "           Title skill1 skill2         skill3 skill4 skill5     skill6  \\\n",
            "251  ui designer   html    css  adobe indisgn  figma  unity  photoshop   \n",
            "\n",
            "          skill7     skill8      skill9  ... skill319 skill320 skill321  \\\n",
            "251  illustrator  lightroom  javascript  ...      NaN      NaN      NaN   \n",
            "\n",
            "    skill322 skill323 skill324 skill325 skill326 skill327 skill328  \n",
            "251      NaN      NaN      NaN      NaN      NaN      NaN      NaN  \n",
            "\n",
            "[1 rows x 329 columns]\n"
          ]
        }
      ]
    },
    {
      "cell_type": "code",
      "source": [
        "import numpy as np"
      ],
      "metadata": {
        "id": "40bmXdpyFc_6"
      },
      "execution_count": null,
      "outputs": []
    },
    {
      "cell_type": "code",
      "source": [
        "# Convert a dataframe to the list of rows i.e. list of lists\n",
        "listOfDFRows = skill_traindata.to_numpy().tolist()"
      ],
      "metadata": {
        "id": "qrzhveXMFiJg"
      },
      "execution_count": null,
      "outputs": []
    },
    {
      "cell_type": "code",
      "source": [
        "skill_traindata.fillna('', inplace=True)"
      ],
      "metadata": {
        "colab": {
          "base_uri": "https://localhost:8080/"
        },
        "id": "1ApkTXK4FlqK",
        "outputId": "d9c67516-85e5-47e1-db42-3eddcbeacd01"
      },
      "execution_count": null,
      "outputs": [
        {
          "output_type": "stream",
          "name": "stderr",
          "text": [
            "/usr/local/lib/python3.7/dist-packages/pandas/core/frame.py:5182: SettingWithCopyWarning: \n",
            "A value is trying to be set on a copy of a slice from a DataFrame\n",
            "\n",
            "See the caveats in the documentation: https://pandas.pydata.org/pandas-docs/stable/user_guide/indexing.html#returning-a-view-versus-a-copy\n",
            "  downcast=downcast,\n"
          ]
        }
      ]
    },
    {
      "cell_type": "code",
      "source": [
        "index_skill=skill_traindata.iloc[:,1:48]  "
      ],
      "metadata": {
        "id": "-vPPN3X3FoX8"
      },
      "execution_count": null,
      "outputs": []
    },
    {
      "cell_type": "code",
      "source": [
        "skill_list=index_skill.values.tolist()\n",
        "#skill_list=skill_traindata.values.tolist()"
      ],
      "metadata": {
        "id": "slGOF1xWGS2Y"
      },
      "execution_count": null,
      "outputs": []
    },
    {
      "cell_type": "code",
      "source": [
        "skill_list_final=skill_list[0]"
      ],
      "metadata": {
        "id": "WJHeh_DwGg-m"
      },
      "execution_count": null,
      "outputs": []
    },
    {
      "cell_type": "code",
      "source": [
        "skill_list_final"
      ],
      "metadata": {
        "colab": {
          "base_uri": "https://localhost:8080/"
        },
        "id": "jq54bDCaG5B0",
        "outputId": "99abf96c-f5f2-4707-f100-a511bd7ffe66"
      },
      "execution_count": null,
      "outputs": [
        {
          "output_type": "execute_result",
          "data": {
            "text/plain": [
              "['html',\n",
              " 'css',\n",
              " 'adobe indisgn',\n",
              " 'figma',\n",
              " 'unity',\n",
              " 'photoshop',\n",
              " 'illustrator',\n",
              " 'lightroom',\n",
              " 'javascript',\n",
              " 'hypertext markup language (html)',\n",
              " 'cascading style sheets (css)',\n",
              " 'javascript',\n",
              " 'react',\n",
              " 'angular',\n",
              " 'vue',\n",
              " 'jquery',\n",
              " 'swift',\n",
              " 'javascript',\n",
              " 'python',\n",
              " 'php',\n",
              " 'java',\n",
              " 'ruby',\n",
              " 'golang',\n",
              " 'c#',\n",
              " 'python',\n",
              " 'javascript',\n",
              " 'laravel',\n",
              " 'django',\n",
              " 'mongodb',\n",
              " 'mysql',\n",
              " 'apache',\n",
              " 'php',\n",
              " 'sql',\n",
              " 'sublime text',\n",
              " 'chrome developer tools',\n",
              " 'jquery',\n",
              " 'github',\n",
              " 'codepen',\n",
              " 'angular.js',\n",
              " 'sass',\n",
              " 'sketch',\n",
              " 'invision studio',\n",
              " 'axure',\n",
              " 'craft',\n",
              " 'proto.io',\n",
              " 'adobe xd',\n",
              " 'marve']"
            ]
          },
          "metadata": {},
          "execution_count": 38
        }
      ]
    },
    {
      "cell_type": "code",
      "source": [
        "import nltk\n",
        "nltk.download('punkt')"
      ],
      "metadata": {
        "colab": {
          "base_uri": "https://localhost:8080/"
        },
        "id": "BzV4PIL_HgfV",
        "outputId": "0fe83bdd-073f-4146-af52-e695e74d4332"
      },
      "execution_count": null,
      "outputs": [
        {
          "output_type": "stream",
          "name": "stderr",
          "text": [
            "[nltk_data] Downloading package punkt to /root/nltk_data...\n",
            "[nltk_data]   Unzipping tokenizers/punkt.zip.\n"
          ]
        },
        {
          "output_type": "execute_result",
          "data": {
            "text/plain": [
              "True"
            ]
          },
          "metadata": {},
          "execution_count": 26
        }
      ]
    },
    {
      "cell_type": "code",
      "source": [
        "from nltk.corpus import stopwords \n",
        "from nltk.tokenize import word_tokenize \n",
        "  \n",
        "X =  skillslist_lower\n",
        "Y = skill_list_final\n",
        "   \n",
        "  \n",
        "sw = stopwords.words('english')  \n",
        "l1 =[];l2 =[] \n",
        "   \n",
        "X_set = {w for w in X if not w in sw}  \n",
        "Y_set = {w for w in Y if not w in sw} \n",
        "    \n",
        "rvector = X_set.union(Y_set)  \n",
        "for w in rvector: \n",
        "    if w in X_set: l1.append(1)\n",
        "    \n",
        "    else: l1.append(0) \n",
        "    if w in Y_set: l2.append(1) \n",
        "    else: l2.append(0) \n",
        "c = 0\n",
        "    \n",
        "for i in range(len(rvector)): \n",
        "        c+= l1[i]*l2[i] \n",
        "cosine = c / float((sum(l1)*sum(l2))**0.5) \n",
        "print(\"similarity: \", cosine)"
      ],
      "metadata": {
        "colab": {
          "base_uri": "https://localhost:8080/"
        },
        "id": "bUCOCQxWHB1f",
        "outputId": "87a7870e-be8e-4c31-e444-8106d8e49775"
      },
      "execution_count": null,
      "outputs": [
        {
          "output_type": "stream",
          "name": "stdout",
          "text": [
            "similarity:  0.11962972091091584\n"
          ]
        }
      ]
    }
  ]
}